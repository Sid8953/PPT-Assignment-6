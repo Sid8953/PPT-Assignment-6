{
 "cells": [
  {
   "cell_type": "markdown",
   "id": "14d64121-fed9-4df2-a843-e966cb484c42",
   "metadata": {},
   "source": [
    "# ans 1"
   ]
  },
  {
   "cell_type": "code",
   "execution_count": 1,
   "id": "d2fdf8bc-055e-47d2-8e2e-3360cf6f019c",
   "metadata": {},
   "outputs": [
    {
     "name": "stdout",
     "output_type": "stream",
     "text": [
      "[0, 4, 1, 3, 2]\n"
     ]
    }
   ],
   "source": [
    "def reconstructPermutation(s):\n",
    "    n = len(s)\n",
    "    perm = []\n",
    "    start, end = 0, n\n",
    "\n",
    "    for c in s:\n",
    "        if c == 'I':\n",
    "            perm.append(start)\n",
    "            start += 1\n",
    "        elif c == 'D':\n",
    "            perm.append(end)\n",
    "            end -= 1\n",
    "\n",
    "    perm.append(start)\n",
    "    return perm\n",
    "\n",
    "s = \"IDID\"\n",
    "reconstructed_permutation = reconstructPermutation(s)\n",
    "print(reconstructed_permutation)\n",
    "\n"
   ]
  },
  {
   "cell_type": "markdown",
   "id": "40ec1011-53cd-42bf-9365-056a92b7f811",
   "metadata": {},
   "source": [
    "# ans 2"
   ]
  },
  {
   "cell_type": "code",
   "execution_count": 2,
   "id": "39019250-456a-4bfa-80a1-98efc1d8ea27",
   "metadata": {},
   "outputs": [
    {
     "name": "stdout",
     "output_type": "stream",
     "text": [
      "True\n"
     ]
    }
   ],
   "source": [
    "def searchMatrix(matrix, target):\n",
    "    m, n = len(matrix), len(matrix[0])\n",
    "    left, right = 0, m * n - 1\n",
    "\n",
    "    while left <= right:\n",
    "        mid = (left + right) // 2\n",
    "        num = matrix[mid // n][mid % n]  # Convert 1D index to 2D index\n",
    "\n",
    "        if num == target:\n",
    "            return True\n",
    "        elif num < target:\n",
    "            left = mid + 1\n",
    "        else:\n",
    "            right = mid - 1\n",
    "\n",
    "    return False\n",
    "\n",
    "\n",
    "matrix = [\n",
    "    [1, 3, 5, 7],\n",
    "    [10, 11, 16, 20],\n",
    "    [23, 30, 34, 60]\n",
    "]\n",
    "target = 3\n",
    "\n",
    "result = searchMatrix(matrix, target)\n",
    "print(result)\n"
   ]
  },
  {
   "cell_type": "markdown",
   "id": "a18ccfe9-8f9a-4b14-a12d-c72a34ce374b",
   "metadata": {},
   "source": [
    "# Ans 3"
   ]
  },
  {
   "cell_type": "code",
   "execution_count": 3,
   "id": "1f16c6d4-5e46-4977-ae2b-8820f7c46b88",
   "metadata": {},
   "outputs": [
    {
     "name": "stdout",
     "output_type": "stream",
     "text": [
      "False\n"
     ]
    }
   ],
   "source": [
    "def validMountainArray(arr):\n",
    "    n = len(arr)\n",
    "    if n < 3:\n",
    "        return False\n",
    "\n",
    "    i, j = 0, n - 1\n",
    "\n",
    "    while i < n - 1 and arr[i] < arr[i + 1]:\n",
    "        i += 1\n",
    "\n",
    "    while j > 0 and arr[j] < arr[j - 1]:\n",
    "        j -= 1\n",
    "\n",
    "    if i == j and i != 0 and j != n - 1:\n",
    "        return True\n",
    "\n",
    "    return False\n",
    "\n",
    "\n",
    "arr = [2, 1]\n",
    "result = validMountainArray(arr)\n",
    "print(result)\n"
   ]
  },
  {
   "cell_type": "markdown",
   "id": "80f360e8-111b-4d6d-b7d0-a5db90adc16b",
   "metadata": {},
   "source": [
    "# Ans 4"
   ]
  },
  {
   "cell_type": "code",
   "execution_count": 4,
   "id": "67f4d47d-ba48-43e7-8ec6-b98d677233fb",
   "metadata": {},
   "outputs": [
    {
     "name": "stdout",
     "output_type": "stream",
     "text": [
      "2\n"
     ]
    }
   ],
   "source": [
    "def findMaxLength(nums):\n",
    "    max_length = 0\n",
    "    count = 0\n",
    "    seen = {0: -1}\n",
    "\n",
    "    for i in range(len(nums)):\n",
    "        count += 1 if nums[i] == 0 else -1\n",
    "\n",
    "        if count in seen:\n",
    "            length = i - seen[count]\n",
    "            max_length = max(max_length, length)\n",
    "        else:\n",
    "            seen[count] = i\n",
    "\n",
    "    return max_length\n",
    "\n",
    "\n",
    "nums = [0, 1]\n",
    "result = findMaxLength(nums)\n",
    "print(result)\n"
   ]
  },
  {
   "cell_type": "markdown",
   "id": "0481d3ca-7cf3-40f1-8cab-e4a13a034f67",
   "metadata": {},
   "source": [
    "# Ans 5"
   ]
  },
  {
   "cell_type": "code",
   "execution_count": 5,
   "id": "93b218fa-7450-45e1-9380-3a4191384fdc",
   "metadata": {},
   "outputs": [
    {
     "name": "stdout",
     "output_type": "stream",
     "text": [
      "40\n"
     ]
    }
   ],
   "source": [
    "def minProductSum(nums1, nums2):\n",
    "    nums1.sort()\n",
    "    nums2.sort(reverse=True)\n",
    "    min_product_sum = 0\n",
    "\n",
    "    for i in range(len(nums1)):\n",
    "        min_product_sum += nums1[i] * nums2[i]\n",
    "\n",
    "    return min_product_sum\n",
    "\n",
    "\n",
    "\n",
    "nums1 = [5, 3, 4, 2]\n",
    "nums2 = [4, 2, 2, 5]\n",
    "result = minProductSum(nums1, nums2)\n",
    "print(result)\n"
   ]
  },
  {
   "cell_type": "markdown",
   "id": "44d68e28-a40b-42dd-a192-6ad1d71d010b",
   "metadata": {},
   "source": [
    "# Ans 6"
   ]
  },
  {
   "cell_type": "code",
   "execution_count": 1,
   "id": "132b46f2-4c85-4aae-a32a-0fb3d2a6b5b1",
   "metadata": {},
   "outputs": [
    {
     "data": {
      "text/plain": [
       "[1, 3, 4]"
      ]
     },
     "execution_count": 1,
     "metadata": {},
     "output_type": "execute_result"
    }
   ],
   "source": [
    "changed = [1,3,4,2,6,8]\n",
    "def findOriginalArray(changed: list[int]) -> list[int]:\n",
    "    \n",
    "    from collections import Counter\n",
    "    if len(changed)%2!=0:return []\n",
    "    changed.sort()\n",
    "    c=Counter(changed)\n",
    "    ans=[]\n",
    "    if c[0]%2==0:\n",
    "        ans+=[0]*(c[0]//2)\n",
    "        \n",
    "    for i in c:\n",
    "        if i==0 or c[i]==0:\n",
    "            continue\n",
    "        elif (i*2 not in c) or c[i]>c[i*2]:\n",
    "            return []\n",
    "        c[i*2]-=c[i]\n",
    "        ans+=[i]*c[i]\n",
    "            \n",
    "    return ans\n",
    "findOriginalArray(changed)"
   ]
  },
  {
   "cell_type": "markdown",
   "id": "4480a553-20d1-40e1-9458-7e42f8a4b305",
   "metadata": {},
   "source": [
    "# Ans 7"
   ]
  },
  {
   "cell_type": "code",
   "execution_count": 2,
   "id": "664bee5a-4b62-485d-89e4-f33643147967",
   "metadata": {},
   "outputs": [
    {
     "data": {
      "text/plain": [
       "[[1, 2, 3], [8, 9, 4], [7, 6, 5]]"
      ]
     },
     "execution_count": 2,
     "metadata": {},
     "output_type": "execute_result"
    }
   ],
   "source": [
    "n = 3\n",
    "def generateMatrix(n: int) -> list[list[int]]:\n",
    "        matrix = [[0]*n for _ in range(n)]\n",
    "        r, c, dr, dc = 0, 0, 0, 1\n",
    "        for current in range(1, n*n + 1):\n",
    "            matrix[r][c] = current\n",
    "            if not (0 <= r + dr < n and 0 <= c + dc < n and matrix[r + dr][c + dc] == 0):\n",
    "                dr, dc = dc, -dr\n",
    "            r += dr\n",
    "            c += dc\n",
    "        return matrix\n",
    "generateMatrix(3)"
   ]
  },
  {
   "cell_type": "markdown",
   "id": "8b818508-3fe2-49b3-a724-e93d9d4bf06b",
   "metadata": {},
   "source": [
    "# Ans 8"
   ]
  },
  {
   "cell_type": "code",
   "execution_count": 3,
   "id": "1766d949-c184-4dc2-8d05-02c43fdb4a7f",
   "metadata": {},
   "outputs": [
    {
     "data": {
      "text/plain": [
       "[[7, 0, 0], [-7, 0, 3]]"
      ]
     },
     "execution_count": 3,
     "metadata": {},
     "output_type": "execute_result"
    }
   ],
   "source": [
    "mat1 = [[1,0,0],[-1,0,3]]\n",
    "mat2 = [[7,0,0],[0,0,0],[0,0,1]]\n",
    "def multiply(mat1: list[list[int]], mat2: list[list[int]]) -> list[list[int]]:\n",
    "  \n",
    "  m = len(mat1)\n",
    "  n = len(mat2)\n",
    "  l = len(mat2[0])\n",
    "  ans = [[0] * l for _ in range(m)]\n",
    "  nonZeroColIndicesInMat2 = [\n",
    "      [j for j, a in enumerate(row) if a]\n",
    "      for row in mat2\n",
    "  ]\n",
    "\n",
    "  for i in range(m):\n",
    "    for j, a in enumerate(mat1[i]):\n",
    "      if a == 0:\n",
    "        continue\n",
    "      \n",
    "      for colIndex in nonZeroColIndicesInMat2[j]:\n",
    "        ans[i][colIndex] += a * mat2[j][colIndex]\n",
    "\n",
    "  return ans\n",
    "multiply(mat1, mat2)"
   ]
  },
  {
   "cell_type": "code",
   "execution_count": null,
   "id": "7f1762e7-b318-4faf-b87a-f05ce0b2da22",
   "metadata": {},
   "outputs": [],
   "source": []
  }
 ],
 "metadata": {
  "kernelspec": {
   "display_name": "Python 3 (ipykernel)",
   "language": "python",
   "name": "python3"
  },
  "language_info": {
   "codemirror_mode": {
    "name": "ipython",
    "version": 3
   },
   "file_extension": ".py",
   "mimetype": "text/x-python",
   "name": "python",
   "nbconvert_exporter": "python",
   "pygments_lexer": "ipython3",
   "version": "3.10.8"
  }
 },
 "nbformat": 4,
 "nbformat_minor": 5
}
